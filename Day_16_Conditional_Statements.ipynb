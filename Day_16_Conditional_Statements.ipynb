{
 "cells": [
  {
   "cell_type": "code",
   "execution_count": 1,
   "metadata": {},
   "outputs": [],
   "source": [
    "#WAP to check whether a number is positive or not!!!"
   ]
  },
  {
   "cell_type": "code",
   "execution_count": 4,
   "metadata": {},
   "outputs": [
    {
     "name": "stdout",
     "output_type": "stream",
     "text": [
      "Enter a number --> 33\n",
      "33 is Positive\n"
     ]
    }
   ],
   "source": [
    "num = int(input(\"Enter a number --> \"))\n",
    "if num > 0:\n",
    "    print(f\"{num} is Positive\")\n",
    "else:\n",
    "    print(f\"{num} is Negative\")"
   ]
  },
  {
   "cell_type": "markdown",
   "metadata": {},
   "source": [
    "### if -elif-else"
   ]
  },
  {
   "cell_type": "markdown",
   "metadata": {},
   "source": [
    "#syntax\n",
    "\n",
    "    \n",
    "    if condition:\n",
    "        statements..1\n",
    "        ............2\n",
    "        .............\n",
    "        ............n\n",
    "    elif condition:\n",
    "        statements...1\n",
    "        .............2\n",
    "        ..............\n",
    "        .............n\n",
    "    else:\n",
    "        statements...1\n",
    "        ..............\n",
    "        ..............\n",
    "        .............n"
   ]
  },
  {
   "cell_type": "code",
   "execution_count": 8,
   "metadata": {},
   "outputs": [
    {
     "name": "stdout",
     "output_type": "stream",
     "text": [
      "Enter the Percentage of Marks --> 91\n",
      "PS5\n"
     ]
    }
   ],
   "source": [
    "marks = float(input(\"Enter the Percentage of Marks --> \"))\n",
    "if marks>90:\n",
    "    print(\"PS5\")\n",
    "elif marks>80 and marks<=90:\n",
    "    print(\"Cycle\")\n",
    "elif marks>70 and marks<=80:\n",
    "    print(\"Video Game\")\n",
    "else:\n",
    "    print(\"Chappal or Belan\")"
   ]
  },
  {
   "cell_type": "code",
   "execution_count": 10,
   "metadata": {},
   "outputs": [],
   "source": [
    "l = ['Jan','Feb','Mar','Apr','May','Jun','Jul','Aug','Sep','Oct','Nov','Dec']"
   ]
  },
  {
   "cell_type": "code",
   "execution_count": 20,
   "metadata": {},
   "outputs": [
    {
     "name": "stdout",
     "output_type": "stream",
     "text": [
      "Enter a number for month (1-12) --> 5\n",
      "Current Month -->  May\n",
      "Before Month -->  Jan Feb Mar Apr\n",
      "After Month -->  Jun Jul Aug Sep Oct Nov Dec\n"
     ]
    }
   ],
   "source": [
    "month = int(input(\"Enter a number for month (1-12) --> \"))\n",
    "print(\"Current Month --> \",l[month-1])\n",
    "print(\"Before Month --> \",*l[:month-1])\n",
    "print(\"After Month --> \",*l[month:])"
   ]
  },
  {
   "cell_type": "markdown",
   "metadata": {},
   "source": [
    "    #input --> 5\n",
    "    \n",
    "        Output\n",
    "      \n",
    "    current Month --> May\n",
    "    before month --> jan feb mar apr \n",
    "    after month --> jun jul aug sep oct nov dec"
   ]
  },
  {
   "cell_type": "code",
   "execution_count": 21,
   "metadata": {},
   "outputs": [],
   "source": [
    "#WAP to swap two numbers"
   ]
  },
  {
   "cell_type": "code",
   "execution_count": 24,
   "metadata": {},
   "outputs": [
    {
     "name": "stdout",
     "output_type": "stream",
     "text": [
      "a -->  4\n",
      "b -->  5\n"
     ]
    }
   ],
   "source": [
    "a = 5\n",
    "b = 4\n",
    "temp = a\n",
    "a = b\n",
    "b = temp\n",
    "print(\"a --> \",a)\n",
    "print(\"b --> \",b)"
   ]
  },
  {
   "cell_type": "code",
   "execution_count": 22,
   "metadata": {},
   "outputs": [],
   "source": [
    "#WAP to swap two numbers without using 3rd var"
   ]
  },
  {
   "cell_type": "code",
   "execution_count": 26,
   "metadata": {},
   "outputs": [
    {
     "name": "stdout",
     "output_type": "stream",
     "text": [
      "a -->  4\n",
      "b -->  5\n"
     ]
    }
   ],
   "source": [
    "a = 5\n",
    "b = 4\n",
    "a = a+b\n",
    "b = a-b\n",
    "a = a-b\n",
    "print(\"a --> \",a)\n",
    "print(\"b --> \",b)"
   ]
  },
  {
   "cell_type": "code",
   "execution_count": 27,
   "metadata": {},
   "outputs": [
    {
     "name": "stdout",
     "output_type": "stream",
     "text": [
      "a -->  4\n",
      "b -->  5\n"
     ]
    }
   ],
   "source": [
    "a = 5\n",
    "b = 4\n",
    "a = a*b\n",
    "b = a//b\n",
    "a = a//b\n",
    "print(\"a --> \",a)\n",
    "print(\"b --> \",b)"
   ]
  },
  {
   "cell_type": "code",
   "execution_count": 29,
   "metadata": {},
   "outputs": [
    {
     "name": "stdout",
     "output_type": "stream",
     "text": [
      "a -->  4\n",
      "b -->  5\n"
     ]
    }
   ],
   "source": [
    "#\n",
    "\n",
    "a,b = 5,4\n",
    "\n",
    "a,b = b,a\n",
    "print(\"a --> \",a)\n",
    "print(\"b --> \",b)"
   ]
  },
  {
   "cell_type": "code",
   "execution_count": 42,
   "metadata": {},
   "outputs": [
    {
     "name": "stdout",
     "output_type": "stream",
     "text": [
      "Enter 1st number --> 2\n",
      "Enter an Operator --> **\n",
      "Enter 2nd number --> 3\n",
      "2 ** 3 = 8\n"
     ]
    }
   ],
   "source": [
    "#cal       (Ladder)\n",
    "num1 = int(input(\"Enter 1st number --> \"))\n",
    "op = input(\"Enter an Operator --> \")\n",
    "num2 = int(input(\"Enter 2nd number --> \"))\n",
    "if op == \"+\":\n",
    "    print(f\"{num1} + {num2} = {num1+num2}\")\n",
    "elif op == \"-\":\n",
    "    print(f\"{num1} - {num2} = {num1-num2}\")\n",
    "elif op == \"*\":\n",
    "    print(f\"{num1} * {num2} = {num1*num2}\")\n",
    "elif op == \"**\":\n",
    "    print(f\"{num1} ** {num2} = {num1**num2}\")\n",
    "elif op == \"/\" or op == \"//\" or op == \"%\":\n",
    "    if num2 == 0:\n",
    "        print(\"\\nGadhe 0 se kon divide karta h!!!\")\n",
    "    elif op == \"/\":\n",
    "        print(f\"{num1} / {num2} = {num1/num2}\")\n",
    "    elif op == \"//\":\n",
    "        print(f\"{num1} // {num2} = {num1//num2}\")\n",
    "    else:\n",
    "        print(f\"{num1} % {num2} = {num1%num2}\")\n",
    "else:\n",
    "    print(\"\\nInvalid Operator\")"
   ]
  },
  {
   "cell_type": "markdown",
   "metadata": {},
   "source": [
    "    #Take input for marks of 5 subjects then calulate its percentage\n",
    "    #Give Grades according to percentage\n",
    "\n",
    "    90 above -- A\n",
    "    75-90 -- B\n",
    "    60-75 -- C\n",
    "    45 - 60 -- D\n",
    "    below 45 -- F"
   ]
  },
  {
   "cell_type": "code",
   "execution_count": 50,
   "metadata": {},
   "outputs": [
    {
     "name": "stdout",
     "output_type": "stream",
     "text": [
      "Enter the Marks of the Subject -->-12\n",
      "Enter the Marks of the Subject -->-212\n",
      "Enter the Marks of the Subject -->-12\n",
      "Enter the Marks of the Subject -->-21\n",
      "Enter the Marks of the Subject -->21\n",
      "\n",
      "Invalid Marks!!!\n"
     ]
    }
   ],
   "source": [
    "eng = int(input(\"Enter the Marks of the Subject -->\"))\n",
    "maths = int(input(\"Enter the Marks of the Subject -->\"))\n",
    "hindi = int(input(\"Enter the Marks of the Subject -->\"))\n",
    "cs = int(input(\"Enter the Marks of the Subject -->\"))\n",
    "sc = int(input(\"Enter the Marks of the Subject -->\"))\n",
    "per = (eng+maths+hindi+cs+sc)/500*100\n",
    "if per>=0 and per<=100:\n",
    "    if per>90:\n",
    "        print(\"Grade A\")\n",
    "    elif per>75:\n",
    "        print(\"Grade B\")\n",
    "    elif per>60:\n",
    "        print(\"Grade C\")\n",
    "    elif per>45:\n",
    "        print(\"Grade D\")\n",
    "    else:\n",
    "        print(\"Grade F\")\n",
    "else:\n",
    "    print(\"\\nInvalid Marks!!!\")"
   ]
  },
  {
   "cell_type": "code",
   "execution_count": 48,
   "metadata": {},
   "outputs": [
    {
     "data": {
      "text/plain": [
       "99.0"
      ]
     },
     "execution_count": 48,
     "metadata": {},
     "output_type": "execute_result"
    }
   ],
   "source": [
    "per"
   ]
  },
  {
   "cell_type": "code",
   "execution_count": 51,
   "metadata": {},
   "outputs": [],
   "source": [
    "#WAP a Program to check a character is vowel or not"
   ]
  },
  {
   "cell_type": "code",
   "execution_count": 52,
   "metadata": {},
   "outputs": [],
   "source": [
    "#input --> a\n",
    "#output --> a is vowel\n",
    "\n",
    "#input --> z\n",
    "#output --> z is consonant"
   ]
  },
  {
   "cell_type": "code",
   "execution_count": null,
   "metadata": {},
   "outputs": [],
   "source": []
  }
 ],
 "metadata": {
  "kernelspec": {
   "display_name": "Python 3",
   "language": "python",
   "name": "python3"
  },
  "language_info": {
   "codemirror_mode": {
    "name": "ipython",
    "version": 3
   },
   "file_extension": ".py",
   "mimetype": "text/x-python",
   "name": "python",
   "nbconvert_exporter": "python",
   "pygments_lexer": "ipython3",
   "version": "3.8.5"
  }
 },
 "nbformat": 4,
 "nbformat_minor": 4
}
