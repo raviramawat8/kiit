{
 "cells": [
  {
   "cell_type": "code",
   "execution_count": 17,
   "metadata": {},
   "outputs": [
    {
     "name": "stdout",
     "output_type": "stream",
     "text": [
      "Enter a character -->       A\n",
      "      A is Vowel\n"
     ]
    }
   ],
   "source": [
    "l = ['a','e','i','o','u']\n",
    "c = input(\"Enter a character --> \")\n",
    "if c.lower().strip() in l:\n",
    "    print(f\"{c} is Vowel\")\n",
    "else:\n",
    "    print(f\"{c} is Consonant\")"
   ]
  },
  {
   "cell_type": "code",
   "execution_count": 18,
   "metadata": {},
   "outputs": [],
   "source": [
    "#WAP to check whether a year is leap year or common year"
   ]
  },
  {
   "cell_type": "code",
   "execution_count": 21,
   "metadata": {},
   "outputs": [
    {
     "data": {
      "text/plain": [
       "0"
      ]
     },
     "execution_count": 21,
     "metadata": {},
     "output_type": "execute_result"
    }
   ],
   "source": [
    "1900%4 --> #Not a leap year"
   ]
  },
  {
   "cell_type": "code",
   "execution_count": 24,
   "metadata": {},
   "outputs": [
    {
     "data": {
      "text/plain": [
       "24"
      ]
     },
     "execution_count": 24,
     "metadata": {},
     "output_type": "execute_result"
    }
   ],
   "source": [
    "2024%400"
   ]
  },
  {
   "cell_type": "code",
   "execution_count": null,
   "metadata": {},
   "outputs": [],
   "source": [
    "#century year%400\n",
    "#non century years %4"
   ]
  },
  {
   "cell_type": "code",
   "execution_count": 30,
   "metadata": {},
   "outputs": [
    {
     "name": "stdout",
     "output_type": "stream",
     "text": [
      "Enter a Year --> 1800\n",
      "1800 is Common Year\n"
     ]
    }
   ],
   "source": [
    "year  = int(input(\"Enter a Year --> \"))\n",
    "if (year%4==0 and year%100!=0) or year%400==0:\n",
    "    print(f\"{year} is Leap Year\")\n",
    "else:\n",
    "    print(f\"{year} is Common Year\")"
   ]
  },
  {
   "cell_type": "code",
   "execution_count": null,
   "metadata": {},
   "outputs": [],
   "source": [
    "#input --> a = {\"ravi\":\"Ramawat\"}\n",
    "#output You Have Entered a Dictionary"
   ]
  },
  {
   "cell_type": "code",
   "execution_count": 38,
   "metadata": {},
   "outputs": [
    {
     "name": "stdout",
     "output_type": "stream",
     "text": [
      "Enter a value -->44.3\n",
      "44.3 is Float\n"
     ]
    }
   ],
   "source": [
    "value = eval(input(\"Enter a value -->\"))\n",
    "if type(value) == int:\n",
    "    print(f\"{value} is Integer\")\n",
    "elif type(value) == float:\n",
    "    print(f\"{value} is Float\")"
   ]
  },
  {
   "cell_type": "code",
   "execution_count": 35,
   "metadata": {},
   "outputs": [
    {
     "name": "stdout",
     "output_type": "stream",
     "text": [
      "{3: 2} <class 'dict'>\n"
     ]
    }
   ],
   "source": [
    "print(a,type(a))"
   ]
  },
  {
   "cell_type": "code",
   "execution_count": null,
   "metadata": {},
   "outputs": [],
   "source": []
  }
 ],
 "metadata": {
  "kernelspec": {
   "display_name": "Python 3",
   "language": "python",
   "name": "python3"
  },
  "language_info": {
   "codemirror_mode": {
    "name": "ipython",
    "version": 3
   },
   "file_extension": ".py",
   "mimetype": "text/x-python",
   "name": "python",
   "nbconvert_exporter": "python",
   "pygments_lexer": "ipython3",
   "version": "3.8.5"
  }
 },
 "nbformat": 4,
 "nbformat_minor": 4
}
