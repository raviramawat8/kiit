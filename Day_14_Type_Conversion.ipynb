{
 "cells": [
  {
   "cell_type": "markdown",
   "metadata": {},
   "source": [
    "# Type Conversion"
   ]
  },
  {
   "cell_type": "code",
   "execution_count": 1,
   "metadata": {},
   "outputs": [],
   "source": [
    "# To convert a value from one data type to another is called type conversion"
   ]
  },
  {
   "cell_type": "markdown",
   "metadata": {},
   "source": [
    "# To convert a value we use some builtin functions\n",
    "        \n",
    "    int()\n",
    "    float()\n",
    "    complex()\n",
    "    str()\n",
    "    list()\n",
    "    dict()\n",
    "    set()\n",
    "    tuple()"
   ]
  },
  {
   "cell_type": "code",
   "execution_count": 2,
   "metadata": {},
   "outputs": [],
   "source": [
    "#4 --> \"4\""
   ]
  },
  {
   "cell_type": "code",
   "execution_count": 7,
   "metadata": {},
   "outputs": [
    {
     "name": "stdout",
     "output_type": "stream",
     "text": [
      "32 <class 'str'>\n"
     ]
    }
   ],
   "source": [
    "a = 32\n",
    "b = str(a)\n",
    "print(b,type(b))"
   ]
  },
  {
   "cell_type": "code",
   "execution_count": 14,
   "metadata": {},
   "outputs": [
    {
     "name": "stdout",
     "output_type": "stream",
     "text": [
      "Float -->  99.0\n",
      "Complex --> (99+0j)\n",
      "String --> 99\n"
     ]
    }
   ],
   "source": [
    "# int to others\n",
    "a = 99\n",
    "print(\"Float --> \",float(a))\n",
    "print(\"Complex -->\",complex(a))\n",
    "print(\"String -->\",str(a)) #Universal DataType --> You can convert any data type into str\n",
    "#print(\"List --> \",list(a))\n",
    "#print(\"Tuple --> \",tuple(a))\n",
    "#print(\"Dictionary --> \",dict(a))\n",
    "#print(\"Set --> \",set(a))"
   ]
  },
  {
   "cell_type": "code",
   "execution_count": 18,
   "metadata": {},
   "outputs": [
    {
     "name": "stdout",
     "output_type": "stream",
     "text": [
      "Int -->  99\n",
      "Complex --> (99.45+0j)\n",
      "String --> 99.45\n"
     ]
    }
   ],
   "source": [
    "# Float to others\n",
    "a = 99.45\n",
    "print(\"Int --> \",int(a))\n",
    "print(\"Complex -->\",complex(a))\n",
    "print(\"String -->\",str(a)) #Universal DataType --> You can convert any data type into str\n",
    "#print(\"List --> \",list(a))\n",
    "#print(\"Tuple --> \",tuple(a))\n",
    "#print(\"Dictionary --> \",dict(a))\n",
    "#print(\"Set --> \",set(a))"
   ]
  },
  {
   "cell_type": "code",
   "execution_count": 26,
   "metadata": {},
   "outputs": [
    {
     "name": "stdout",
     "output_type": "stream",
     "text": [
      "String --> (33+2j)\n"
     ]
    }
   ],
   "source": [
    "# Complex to others\n",
    "a = 33 + 2j\n",
    "#print(\"Int --> \",int(a))\n",
    "#print(\"Float -->\",float(a))\n",
    "print(\"String -->\",str(a)) #Universal DataType --> You can convert any data type into str\n",
    "#print(\"List --> \",list(a))\n",
    "#print(\"Tuple --> \",tuple(a))\n",
    "#print(\"Dictionary --> \",dict(a))\n",
    "#print(\"Set --> \",set(a))"
   ]
  },
  {
   "cell_type": "code",
   "execution_count": 28,
   "metadata": {},
   "outputs": [
    {
     "name": "stdout",
     "output_type": "stream",
     "text": [
      "Int -->  1234\n",
      "Float --> 1234.0\n",
      "Complex --> (1234+0j)\n",
      "List -->  ['1', '2', '3', '4']\n",
      "Tuple -->  ('1', '2', '3', '4')\n",
      "Set -->  {'4', '1', '3', '2'}\n"
     ]
    }
   ],
   "source": [
    "# Str to others\n",
    "a = \"1234\"\n",
    "print(\"Int --> \",int(a))\n",
    "print(\"Float -->\",float(a))\n",
    "print(\"Complex -->\",complex(a))\n",
    "print(\"List --> \",list(a))\n",
    "print(\"Tuple --> \",tuple(a))\n",
    "#print(\"Dictionary --> \",dict(a))\n",
    "print(\"Set --> \",set(a))"
   ]
  },
  {
   "cell_type": "code",
   "execution_count": 32,
   "metadata": {},
   "outputs": [
    {
     "name": "stdout",
     "output_type": "stream",
     "text": [
      "List -->  ['H', 'e', 'l', 'l', 'o']\n",
      "Tuple -->  ('H', 'e', 'l', 'l', 'o')\n",
      "Set -->  {'H', 'e', 'o', 'l'}\n"
     ]
    }
   ],
   "source": [
    "# Str to others\n",
    "a = \"Hello\"\n",
    "#print(\"Int --> \",int(a))\n",
    "#print(\"Float -->\",float(a))\n",
    "#print(\"Complex -->\",complex(a))\n",
    "print(\"List --> \",list(a))\n",
    "print(\"Tuple --> \",tuple(a))\n",
    "#print(\"Dictionary --> \",dict(a))\n",
    "print(\"Set --> \",set(a))"
   ]
  },
  {
   "cell_type": "code",
   "execution_count": 37,
   "metadata": {},
   "outputs": [
    {
     "name": "stdout",
     "output_type": "stream",
     "text": [
      "String -->  [1, 2, 3, 4, 5, 6, 7]\n",
      "Tuple -->  (1, 2, 3, 4, 5, 6, 7)\n",
      "Set -->  {1, 2, 3, 4, 5, 6, 7}\n"
     ]
    }
   ],
   "source": [
    "# List to others\n",
    "a = [1,2,3,4,5,6,7]\n",
    "#print(\"Int --> \",int(a))\n",
    "#print(\"Float -->\",float(a))\n",
    "#print(\"Complex -->\",complex(a))\n",
    "print(\"String --> \",str(a))\n",
    "print(\"Tuple --> \",tuple(a))\n",
    "#print(\"Dictionary --> \",dict(a))\n",
    "print(\"Set --> \",set(a))"
   ]
  },
  {
   "cell_type": "code",
   "execution_count": 40,
   "metadata": {},
   "outputs": [
    {
     "name": "stdout",
     "output_type": "stream",
     "text": [
      "String -->  [[1, 2], [3, 4], [5, 6]]\n",
      "Tuple -->  ([1, 2], [3, 4], [5, 6])\n",
      "Dictionary -->  {1: 2, 3: 4, 5: 6}\n"
     ]
    }
   ],
   "source": [
    "# List to others\n",
    "a = [[1,2],[3,4],[5,6]]\n",
    "#print(\"Int --> \",int(a))\n",
    "#print(\"Float -->\",float(a))\n",
    "#print(\"Complex -->\",complex(a))\n",
    "print(\"String --> \",str(a))\n",
    "print(\"Tuple --> \",tuple(a))\n",
    "print(\"Dictionary --> \",dict(a))\n",
    "#print(\"Set --> \",set(a))"
   ]
  },
  {
   "cell_type": "code",
   "execution_count": 43,
   "metadata": {},
   "outputs": [
    {
     "name": "stdout",
     "output_type": "stream",
     "text": [
      "String -->  (1, 2, 3, 4, 5, 6)\n",
      "List -->  [1, 2, 3, 4, 5, 6]\n",
      "Set -->  {1, 2, 3, 4, 5, 6}\n"
     ]
    }
   ],
   "source": [
    "# Tuple to others\n",
    "a = (1,2,3,4,5,6)\n",
    "#print(\"Int --> \",int(a))\n",
    "#print(\"Float -->\",float(a))\n",
    "#print(\"Complex -->\",complex(a))\n",
    "print(\"String --> \",str(a))\n",
    "print(\"List --> \",list(a))\n",
    "#print(\"Dictionary --> \",dict(a))\n",
    "print(\"Set --> \",set(a))"
   ]
  },
  {
   "cell_type": "code",
   "execution_count": 44,
   "metadata": {},
   "outputs": [
    {
     "name": "stdout",
     "output_type": "stream",
     "text": [
      "String -->  ((1, 2), (3, 4), (5, 6))\n",
      "List -->  [(1, 2), (3, 4), (5, 6)]\n",
      "Dictionary -->  {1: 2, 3: 4, 5: 6}\n",
      "Set -->  {(1, 2), (3, 4), (5, 6)}\n"
     ]
    }
   ],
   "source": [
    "# Tuple to others\n",
    "a = ((1,2),(3,4),(5,6))\n",
    "#print(\"Int --> \",int(a))\n",
    "#print(\"Float -->\",float(a))\n",
    "#print(\"Complex -->\",complex(a))\n",
    "print(\"String --> \",str(a))\n",
    "print(\"List --> \",list(a))\n",
    "print(\"Dictionary --> \",dict(a))\n",
    "print(\"Set --> \",set(a))"
   ]
  },
  {
   "cell_type": "code",
   "execution_count": 49,
   "metadata": {},
   "outputs": [
    {
     "name": "stdout",
     "output_type": "stream",
     "text": [
      "{1: 2, 3: 4, 5: 6}\n",
      "String -->  {1: 2, 3: 4, 5: 6}\n",
      "List -->  [1, 3, 5]\n",
      "Tuple -->  (1, 3, 5)\n",
      "Set -->  {1, 3, 5}\n"
     ]
    }
   ],
   "source": [
    "# Dict to others\n",
    "a = ((1,2),(3,4),(5,6))\n",
    "a = dict(a)\n",
    "print(a)\n",
    "#print(\"Int --> \",int(a))\n",
    "#print(\"Float -->\",float(a))\n",
    "#print(\"Complex -->\",complex(a))\n",
    "print(\"String --> \",str(a))\n",
    "print(\"List --> \",list(a))\n",
    "print(\"Tuple --> \",tuple(a))\n",
    "print(\"Set --> \",set(a))"
   ]
  },
  {
   "cell_type": "code",
   "execution_count": 46,
   "metadata": {},
   "outputs": [
    {
     "name": "stdout",
     "output_type": "stream",
     "text": [
      "String -->  {(1, 2), (3, 4), (5, 6)}\n",
      "List -->  [(1, 2), (3, 4), (5, 6)]\n",
      "Tuple -->  ((1, 2), (3, 4), (5, 6))\n",
      "Dict -->  {1: 2, 3: 4, 5: 6}\n"
     ]
    }
   ],
   "source": [
    "# Set to others\n",
    "a = {(1,2),(3,4),(5,6)}\n",
    "#print(\"Int --> \",int(a))\n",
    "#print(\"Float -->\",float(a))\n",
    "#print(\"Complex -->\",complex(a))\n",
    "print(\"String --> \",str(a))\n",
    "print(\"List --> \",list(a))\n",
    "print(\"Tuple --> \",tuple(a))\n",
    "print(\"Dict --> \",dict(a))"
   ]
  },
  {
   "cell_type": "code",
   "execution_count": 48,
   "metadata": {},
   "outputs": [
    {
     "name": "stdout",
     "output_type": "stream",
     "text": [
      "String -->  {1, 2, 3, 4, 5, 6}\n",
      "List -->  [1, 2, 3, 4, 5, 6]\n",
      "Tuple -->  (1, 2, 3, 4, 5, 6)\n"
     ]
    }
   ],
   "source": [
    "# Set to others\n",
    "a = {1,2,3,4,5,6}\n",
    "#print(\"Int --> \",int(a))\n",
    "#print(\"Float -->\",float(a))\n",
    "#print(\"Complex -->\",complex(a))\n",
    "print(\"String --> \",str(a))\n",
    "print(\"List --> \",list(a))\n",
    "print(\"Tuple --> \",tuple(a))\n",
    "#print(\"Dict --> \",dict(a))"
   ]
  }
 ],
 "metadata": {
  "kernelspec": {
   "display_name": "Python 3",
   "language": "python",
   "name": "python3"
  },
  "language_info": {
   "codemirror_mode": {
    "name": "ipython",
    "version": 3
   },
   "file_extension": ".py",
   "mimetype": "text/x-python",
   "name": "python",
   "nbconvert_exporter": "python",
   "pygments_lexer": "ipython3",
   "version": "3.8.5"
  }
 },
 "nbformat": 4,
 "nbformat_minor": 4
}
