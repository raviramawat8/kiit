{
 "cells": [
  {
   "cell_type": "markdown",
   "metadata": {},
   "source": [
    "# Conditional Statements"
   ]
  },
  {
   "cell_type": "markdown",
   "metadata": {},
   "source": [
    "1. if\n",
    "2. if-else\n",
    "3. if-elif-else\n",
    "4. Ladder or Branching\n",
    "5. Nested if-else"
   ]
  },
  {
   "cell_type": "markdown",
   "metadata": {},
   "source": [
    "# Syntax"
   ]
  },
  {
   "cell_type": "markdown",
   "metadata": {},
   "source": [
    "It is a way to represent the code"
   ]
  },
  {
   "cell_type": "markdown",
   "metadata": {},
   "source": [
    "    if condition:\n",
    "        Statement..1\n",
    "        ...........2\n",
    "        ...........\n",
    "        ...........\n",
    "        ...........n"
   ]
  },
  {
   "cell_type": "code",
   "execution_count": 9,
   "metadata": {},
   "outputs": [
    {
     "name": "stdout",
     "output_type": "stream",
     "text": [
      "Hello World\n"
     ]
    }
   ],
   "source": [
    "marks = 90\n",
    "if marks>90:\n",
    "    print(\"Cycle\") #Inside if\n",
    "print(\"Hello World\") #outside if"
   ]
  },
  {
   "cell_type": "code",
   "execution_count": 10,
   "metadata": {},
   "outputs": [],
   "source": [
    "#In python everything is True expect the following -->\n",
    "\n",
    "#False\n",
    "#0\n",
    "#None\n",
    "#\"\"\n",
    "#{}\n",
    "#()\n",
    "#[]"
   ]
  },
  {
   "cell_type": "code",
   "execution_count": 12,
   "metadata": {},
   "outputs": [],
   "source": [
    "if 0:\n",
    "    print(\"Hello World\")"
   ]
  },
  {
   "cell_type": "code",
   "execution_count": 13,
   "metadata": {},
   "outputs": [
    {
     "name": "stdout",
     "output_type": "stream",
     "text": [
      "All iz Well\n"
     ]
    }
   ],
   "source": [
    "if \"Ravi\":\n",
    "    print(\"All iz Well\")"
   ]
  },
  {
   "cell_type": "code",
   "execution_count": 14,
   "metadata": {},
   "outputs": [],
   "source": [
    "if \"\":\n",
    "    print(\"How are you??\")"
   ]
  },
  {
   "cell_type": "markdown",
   "metadata": {},
   "source": [
    "# How to take Input in Python?"
   ]
  },
  {
   "cell_type": "code",
   "execution_count": 15,
   "metadata": {},
   "outputs": [],
   "source": [
    "#User input"
   ]
  },
  {
   "cell_type": "code",
   "execution_count": 16,
   "metadata": {},
   "outputs": [],
   "source": [
    "# to take input from user we have input function"
   ]
  },
  {
   "cell_type": "code",
   "execution_count": 18,
   "metadata": {},
   "outputs": [
    {
     "name": "stdout",
     "output_type": "stream",
     "text": [
      "Enter Your Name --> Ravi Ramawat\n",
      "Ravi Ramawat\n"
     ]
    }
   ],
   "source": [
    "name = input(\"Enter Your Name --> \")\n",
    "print(name)"
   ]
  },
  {
   "cell_type": "code",
   "execution_count": 19,
   "metadata": {},
   "outputs": [],
   "source": [
    "#WAP to add two numbers -->"
   ]
  },
  {
   "cell_type": "code",
   "execution_count": 22,
   "metadata": {},
   "outputs": [
    {
     "name": "stdout",
     "output_type": "stream",
     "text": [
      "Enter number 1 --> 3\n",
      "Enter number 2 --> 3\n",
      "3  + 3 = 6 \n"
     ]
    }
   ],
   "source": [
    "num1 = int(input('Enter number 1 --> ')) #bydefault takes str\n",
    "num2 = int(input('Enter number 2 --> '))\n",
    "print(f\"{num1}  + {num2} = {num1+num2} \")"
   ]
  },
  {
   "cell_type": "code",
   "execution_count": 23,
   "metadata": {},
   "outputs": [],
   "source": [
    "#if -else"
   ]
  },
  {
   "cell_type": "code",
   "execution_count": 24,
   "metadata": {},
   "outputs": [],
   "source": [
    "#syntax"
   ]
  },
  {
   "cell_type": "markdown",
   "metadata": {},
   "source": [
    "    if condition:\n",
    "        Statement..1\n",
    "        ...........2\n",
    "        ...........\n",
    "        ...........\n",
    "        ...........n\n",
    "    else:\n",
    "        Statement..1\n",
    "        ...........2\n",
    "        ...........\n",
    "        ...........\n",
    "        ...........n"
   ]
  },
  {
   "cell_type": "code",
   "execution_count": 25,
   "metadata": {},
   "outputs": [],
   "source": [
    "#WAP to find greater among two nos"
   ]
  },
  {
   "cell_type": "code",
   "execution_count": 28,
   "metadata": {},
   "outputs": [
    {
     "name": "stdout",
     "output_type": "stream",
     "text": [
      "Enter the value of X --> 77\n",
      "Enter the value of Y -->22\n",
      "77 is Greater\n"
     ]
    }
   ],
   "source": [
    "x,y = int(input(\"Enter the value of X --> \")),int(input(\"Enter the value of Y -->\"))\n",
    "if x>y:\n",
    "    print(f\"{x} is Greater\")\n",
    "else:\n",
    "    print(f\"{y} is Greater\")"
   ]
  },
  {
   "cell_type": "code",
   "execution_count": 29,
   "metadata": {},
   "outputs": [],
   "source": [
    "#WAP to check whether a number is even or odd"
   ]
  },
  {
   "cell_type": "code",
   "execution_count": 31,
   "metadata": {},
   "outputs": [
    {
     "name": "stdout",
     "output_type": "stream",
     "text": [
      "Enter a number --> 99\n",
      "99 is Odd\n"
     ]
    }
   ],
   "source": [
    "num = int(input(\"Enter a number --> \"))\n",
    "if num%2==0:\n",
    "    print(f\"{num} is Even\")\n",
    "else:\n",
    "    print(f\"{num} is Odd\")"
   ]
  },
  {
   "cell_type": "code",
   "execution_count": 33,
   "metadata": {},
   "outputs": [
    {
     "name": "stdout",
     "output_type": "stream",
     "text": [
      "Enter a number --> 77\n",
      "77 is Odd\n"
     ]
    }
   ],
   "source": [
    "#OR\n",
    "num = int(input(\"Enter a number --> \"))\n",
    "if num%2:\n",
    "    print(f\"{num} is Odd\")\n",
    "else:\n",
    "    print(f\"{num} is Even\")"
   ]
  },
  {
   "cell_type": "code",
   "execution_count": null,
   "metadata": {},
   "outputs": [],
   "source": [
    "num--> True\n",
    "0 --> False"
   ]
  },
  {
   "cell_type": "code",
   "execution_count": 37,
   "metadata": {},
   "outputs": [
    {
     "name": "stdout",
     "output_type": "stream",
     "text": [
      "Enter Somthing--> \n",
      "Hi World\n"
     ]
    }
   ],
   "source": [
    "if input(\"Enter Somthing--> \"):\n",
    "    print(\"Hello World\")\n",
    "else:\n",
    "    print(\"Hi World\")"
   ]
  },
  {
   "cell_type": "code",
   "execution_count": 39,
   "metadata": {},
   "outputs": [],
   "source": [
    "#WAP to check greatest among three nos"
   ]
  },
  {
   "cell_type": "code",
   "execution_count": 42,
   "metadata": {},
   "outputs": [
    {
     "name": "stdout",
     "output_type": "stream",
     "text": [
      "Enter the value of x-->22\n",
      "Enter the value of y-->55\n",
      "Enter the value of z-->999\n",
      "999 is Greatest\n"
     ]
    }
   ],
   "source": [
    "x,y,z = int(input(\"Enter the value of x-->\")),int(input(\"Enter the value of y-->\")),int(input(\"Enter the value of z-->\"))\n",
    "if x>y:\n",
    "    if x>z:\n",
    "        print(f\"{x} is Greatest\")\n",
    "    else:\n",
    "        print(f\"{z} is Greatest\")\n",
    "else:\n",
    "    if y>z:\n",
    "        print(f\"{y} is Greatest\")\n",
    "    else:\n",
    "        print(f\"{z} is Greatest\")"
   ]
  },
  {
   "cell_type": "code",
   "execution_count": null,
   "metadata": {},
   "outputs": [],
   "source": []
  }
 ],
 "metadata": {
  "kernelspec": {
   "display_name": "Python 3",
   "language": "python",
   "name": "python3"
  },
  "language_info": {
   "codemirror_mode": {
    "name": "ipython",
    "version": 3
   },
   "file_extension": ".py",
   "mimetype": "text/x-python",
   "name": "python",
   "nbconvert_exporter": "python",
   "pygments_lexer": "ipython3",
   "version": "3.8.5"
  }
 },
 "nbformat": 4,
 "nbformat_minor": 4
}
